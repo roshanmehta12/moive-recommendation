{
 "cells": [
  {
   "cell_type": "code",
   "execution_count": 1,
   "id": "0e6942f4",
   "metadata": {},
   "outputs": [],
   "source": [
    "import pandas as pd\n",
    "import matplotlib.pyplot as plt\n",
    "import numpy as np"
   ]
  },
  {
   "cell_type": "code",
   "execution_count": 2,
   "id": "bde4561b",
   "metadata": {},
   "outputs": [],
   "source": [
    "path = \"/Users/roshanmehta/Desktop/archive\"\n",
    "\n",
    "credits_df = pd.read_csv(path + \"/tmdb_5000_credits.csv\")\n",
    "movies_df = pd.read_csv(path + \"/tmdb_5000_movies.csv\")"
   ]
  },
  {
   "attachments": {},
   "cell_type": "markdown",
   "id": "721e0f00",
   "metadata": {},
   "source": [
    "### Exploratory Data Analysis (EDA)"
   ]
  },
  {
   "cell_type": "code",
   "execution_count": 3,
   "id": "c236b761",
   "metadata": {},
   "outputs": [
    {
     "name": "stdout",
     "output_type": "stream",
     "text": [
      "(4803, 4)\n"
     ]
    },
    {
     "data": {
      "text/html": [
       "<div>\n",
       "<style scoped>\n",
       "    .dataframe tbody tr th:only-of-type {\n",
       "        vertical-align: middle;\n",
       "    }\n",
       "\n",
       "    .dataframe tbody tr th {\n",
       "        vertical-align: top;\n",
       "    }\n",
       "\n",
       "    .dataframe thead th {\n",
       "        text-align: right;\n",
       "    }\n",
       "</style>\n",
       "<table border=\"1\" class=\"dataframe\">\n",
       "  <thead>\n",
       "    <tr style=\"text-align: right;\">\n",
       "      <th></th>\n",
       "      <th>movie_id</th>\n",
       "      <th>title</th>\n",
       "      <th>cast</th>\n",
       "      <th>crew</th>\n",
       "    </tr>\n",
       "  </thead>\n",
       "  <tbody>\n",
       "    <tr>\n",
       "      <th>0</th>\n",
       "      <td>19995</td>\n",
       "      <td>avatar</td>\n",
       "      <td>[{\"cast_id\": 242, \"character\": \"Jake Sully\", \"...</td>\n",
       "      <td>[{\"credit_id\": \"52fe48009251416c750aca23\", \"de...</td>\n",
       "    </tr>\n",
       "    <tr>\n",
       "      <th>1</th>\n",
       "      <td>285</td>\n",
       "      <td>pirates of the caribbean: at world's end</td>\n",
       "      <td>[{\"cast_id\": 4, \"character\": \"Captain Jack Spa...</td>\n",
       "      <td>[{\"credit_id\": \"52fe4232c3a36847f800b579\", \"de...</td>\n",
       "    </tr>\n",
       "  </tbody>\n",
       "</table>\n",
       "</div>"
      ],
      "text/plain": [
       "   movie_id                                     title  \\\n",
       "0     19995                                    avatar   \n",
       "1       285  pirates of the caribbean: at world's end   \n",
       "\n",
       "                                                cast  \\\n",
       "0  [{\"cast_id\": 242, \"character\": \"Jake Sully\", \"...   \n",
       "1  [{\"cast_id\": 4, \"character\": \"Captain Jack Spa...   \n",
       "\n",
       "                                                crew  \n",
       "0  [{\"credit_id\": \"52fe48009251416c750aca23\", \"de...  \n",
       "1  [{\"credit_id\": \"52fe4232c3a36847f800b579\", \"de...  "
      ]
     },
     "execution_count": 3,
     "metadata": {},
     "output_type": "execute_result"
    }
   ],
   "source": [
    "print(credits_df.shape)\n",
    "credits_df['title'] = credits_df['title'].apply(str.lower)\n",
    "credits_df.head(2)"
   ]
  },
  {
   "cell_type": "code",
   "execution_count": 4,
   "id": "a81f8e08",
   "metadata": {},
   "outputs": [
    {
     "name": "stdout",
     "output_type": "stream",
     "text": [
      "(4803, 20)\n"
     ]
    },
    {
     "data": {
      "text/html": [
       "<div>\n",
       "<style scoped>\n",
       "    .dataframe tbody tr th:only-of-type {\n",
       "        vertical-align: middle;\n",
       "    }\n",
       "\n",
       "    .dataframe tbody tr th {\n",
       "        vertical-align: top;\n",
       "    }\n",
       "\n",
       "    .dataframe thead th {\n",
       "        text-align: right;\n",
       "    }\n",
       "</style>\n",
       "<table border=\"1\" class=\"dataframe\">\n",
       "  <thead>\n",
       "    <tr style=\"text-align: right;\">\n",
       "      <th></th>\n",
       "      <th>budget</th>\n",
       "      <th>genres</th>\n",
       "      <th>homepage</th>\n",
       "      <th>id</th>\n",
       "      <th>keywords</th>\n",
       "      <th>original_language</th>\n",
       "      <th>original_title</th>\n",
       "      <th>overview</th>\n",
       "      <th>popularity</th>\n",
       "      <th>production_companies</th>\n",
       "      <th>production_countries</th>\n",
       "      <th>release_date</th>\n",
       "      <th>revenue</th>\n",
       "      <th>runtime</th>\n",
       "      <th>spoken_languages</th>\n",
       "      <th>status</th>\n",
       "      <th>tagline</th>\n",
       "      <th>title</th>\n",
       "      <th>vote_average</th>\n",
       "      <th>vote_count</th>\n",
       "    </tr>\n",
       "  </thead>\n",
       "  <tbody>\n",
       "    <tr>\n",
       "      <th>0</th>\n",
       "      <td>237000000</td>\n",
       "      <td>[{\"id\": 28, \"name\": \"Action\"}, {\"id\": 12, \"nam...</td>\n",
       "      <td>http://www.avatarmovie.com/</td>\n",
       "      <td>19995</td>\n",
       "      <td>[{\"id\": 1463, \"name\": \"culture clash\"}, {\"id\":...</td>\n",
       "      <td>en</td>\n",
       "      <td>Avatar</td>\n",
       "      <td>In the 22nd century, a paraplegic Marine is di...</td>\n",
       "      <td>150.437577</td>\n",
       "      <td>[{\"name\": \"Ingenious Film Partners\", \"id\": 289...</td>\n",
       "      <td>[{\"iso_3166_1\": \"US\", \"name\": \"United States o...</td>\n",
       "      <td>2009-12-10</td>\n",
       "      <td>2787965087</td>\n",
       "      <td>162.0</td>\n",
       "      <td>[{\"iso_639_1\": \"en\", \"name\": \"English\"}, {\"iso...</td>\n",
       "      <td>Released</td>\n",
       "      <td>Enter the World of Pandora.</td>\n",
       "      <td>avatar</td>\n",
       "      <td>7.2</td>\n",
       "      <td>11800</td>\n",
       "    </tr>\n",
       "    <tr>\n",
       "      <th>1</th>\n",
       "      <td>300000000</td>\n",
       "      <td>[{\"id\": 12, \"name\": \"Adventure\"}, {\"id\": 14, \"...</td>\n",
       "      <td>http://disney.go.com/disneypictures/pirates/</td>\n",
       "      <td>285</td>\n",
       "      <td>[{\"id\": 270, \"name\": \"ocean\"}, {\"id\": 726, \"na...</td>\n",
       "      <td>en</td>\n",
       "      <td>Pirates of the Caribbean: At World's End</td>\n",
       "      <td>Captain Barbossa, long believed to be dead, ha...</td>\n",
       "      <td>139.082615</td>\n",
       "      <td>[{\"name\": \"Walt Disney Pictures\", \"id\": 2}, {\"...</td>\n",
       "      <td>[{\"iso_3166_1\": \"US\", \"name\": \"United States o...</td>\n",
       "      <td>2007-05-19</td>\n",
       "      <td>961000000</td>\n",
       "      <td>169.0</td>\n",
       "      <td>[{\"iso_639_1\": \"en\", \"name\": \"English\"}]</td>\n",
       "      <td>Released</td>\n",
       "      <td>At the end of the world, the adventure begins.</td>\n",
       "      <td>pirates of the caribbean: at world's end</td>\n",
       "      <td>6.9</td>\n",
       "      <td>4500</td>\n",
       "    </tr>\n",
       "  </tbody>\n",
       "</table>\n",
       "</div>"
      ],
      "text/plain": [
       "      budget                                             genres  \\\n",
       "0  237000000  [{\"id\": 28, \"name\": \"Action\"}, {\"id\": 12, \"nam...   \n",
       "1  300000000  [{\"id\": 12, \"name\": \"Adventure\"}, {\"id\": 14, \"...   \n",
       "\n",
       "                                       homepage     id  \\\n",
       "0                   http://www.avatarmovie.com/  19995   \n",
       "1  http://disney.go.com/disneypictures/pirates/    285   \n",
       "\n",
       "                                            keywords original_language  \\\n",
       "0  [{\"id\": 1463, \"name\": \"culture clash\"}, {\"id\":...                en   \n",
       "1  [{\"id\": 270, \"name\": \"ocean\"}, {\"id\": 726, \"na...                en   \n",
       "\n",
       "                             original_title  \\\n",
       "0                                    Avatar   \n",
       "1  Pirates of the Caribbean: At World's End   \n",
       "\n",
       "                                            overview  popularity  \\\n",
       "0  In the 22nd century, a paraplegic Marine is di...  150.437577   \n",
       "1  Captain Barbossa, long believed to be dead, ha...  139.082615   \n",
       "\n",
       "                                production_companies  \\\n",
       "0  [{\"name\": \"Ingenious Film Partners\", \"id\": 289...   \n",
       "1  [{\"name\": \"Walt Disney Pictures\", \"id\": 2}, {\"...   \n",
       "\n",
       "                                production_countries release_date     revenue  \\\n",
       "0  [{\"iso_3166_1\": \"US\", \"name\": \"United States o...   2009-12-10  2787965087   \n",
       "1  [{\"iso_3166_1\": \"US\", \"name\": \"United States o...   2007-05-19   961000000   \n",
       "\n",
       "   runtime                                   spoken_languages    status  \\\n",
       "0    162.0  [{\"iso_639_1\": \"en\", \"name\": \"English\"}, {\"iso...  Released   \n",
       "1    169.0           [{\"iso_639_1\": \"en\", \"name\": \"English\"}]  Released   \n",
       "\n",
       "                                          tagline  \\\n",
       "0                     Enter the World of Pandora.   \n",
       "1  At the end of the world, the adventure begins.   \n",
       "\n",
       "                                      title  vote_average  vote_count  \n",
       "0                                    avatar           7.2       11800  \n",
       "1  pirates of the caribbean: at world's end           6.9        4500  "
      ]
     },
     "execution_count": 4,
     "metadata": {},
     "output_type": "execute_result"
    }
   ],
   "source": [
    "print(movies_df.shape)\n",
    "movies_df['title'] = movies_df['title'].apply(str.lower)\n",
    "movies_df.head(2)"
   ]
  },
  {
   "cell_type": "code",
   "execution_count": 5,
   "id": "d3c03816",
   "metadata": {},
   "outputs": [
    {
     "data": {
      "text/plain": [
       "Index(['movie_id', 'title', 'cast', 'crew'], dtype='object')"
      ]
     },
     "execution_count": 5,
     "metadata": {},
     "output_type": "execute_result"
    }
   ],
   "source": [
    "credits_df.columns"
   ]
  },
  {
   "cell_type": "code",
   "execution_count": 6,
   "id": "715007b8",
   "metadata": {},
   "outputs": [
    {
     "data": {
      "text/plain": [
       "Index(['budget', 'genres', 'homepage', 'id', 'keywords', 'original_language',\n",
       "       'original_title', 'overview', 'popularity', 'production_companies',\n",
       "       'production_countries', 'release_date', 'revenue', 'runtime',\n",
       "       'spoken_languages', 'status', 'tagline', 'title', 'vote_average',\n",
       "       'vote_count'],\n",
       "      dtype='object')"
      ]
     },
     "execution_count": 6,
     "metadata": {},
     "output_type": "execute_result"
    }
   ],
   "source": [
    "movies_df.columns"
   ]
  },
  {
   "cell_type": "code",
   "execution_count": 7,
   "id": "939ce77b",
   "metadata": {},
   "outputs": [],
   "source": [
    "#credits_df.columns = ['id','title','cast','crew']\n",
    "\n",
    "#movies_df = movies_df.merge(credits_df, on=\"id\")\n",
    "#movies_df = movies_df.drop(columns = \"homepage\")\n",
    "\n",
    "movies_df = pd.merge(movies_df, credits_df, how = 'inner').drop(columns = 'movie_id')"
   ]
  },
  {
   "cell_type": "code",
   "execution_count": 8,
   "id": "e818e5b4",
   "metadata": {
    "scrolled": true
   },
   "outputs": [
    {
     "data": {
      "text/html": [
       "<div>\n",
       "<style scoped>\n",
       "    .dataframe tbody tr th:only-of-type {\n",
       "        vertical-align: middle;\n",
       "    }\n",
       "\n",
       "    .dataframe tbody tr th {\n",
       "        vertical-align: top;\n",
       "    }\n",
       "\n",
       "    .dataframe thead th {\n",
       "        text-align: right;\n",
       "    }\n",
       "</style>\n",
       "<table border=\"1\" class=\"dataframe\">\n",
       "  <thead>\n",
       "    <tr style=\"text-align: right;\">\n",
       "      <th></th>\n",
       "      <th>budget</th>\n",
       "      <th>genres</th>\n",
       "      <th>homepage</th>\n",
       "      <th>id</th>\n",
       "      <th>keywords</th>\n",
       "      <th>original_language</th>\n",
       "      <th>original_title</th>\n",
       "      <th>overview</th>\n",
       "      <th>popularity</th>\n",
       "      <th>production_companies</th>\n",
       "      <th>...</th>\n",
       "      <th>revenue</th>\n",
       "      <th>runtime</th>\n",
       "      <th>spoken_languages</th>\n",
       "      <th>status</th>\n",
       "      <th>tagline</th>\n",
       "      <th>title</th>\n",
       "      <th>vote_average</th>\n",
       "      <th>vote_count</th>\n",
       "      <th>cast</th>\n",
       "      <th>crew</th>\n",
       "    </tr>\n",
       "  </thead>\n",
       "  <tbody>\n",
       "    <tr>\n",
       "      <th>0</th>\n",
       "      <td>237000000</td>\n",
       "      <td>[{\"id\": 28, \"name\": \"Action\"}, {\"id\": 12, \"nam...</td>\n",
       "      <td>http://www.avatarmovie.com/</td>\n",
       "      <td>19995</td>\n",
       "      <td>[{\"id\": 1463, \"name\": \"culture clash\"}, {\"id\":...</td>\n",
       "      <td>en</td>\n",
       "      <td>Avatar</td>\n",
       "      <td>In the 22nd century, a paraplegic Marine is di...</td>\n",
       "      <td>150.437577</td>\n",
       "      <td>[{\"name\": \"Ingenious Film Partners\", \"id\": 289...</td>\n",
       "      <td>...</td>\n",
       "      <td>2787965087</td>\n",
       "      <td>162.0</td>\n",
       "      <td>[{\"iso_639_1\": \"en\", \"name\": \"English\"}, {\"iso...</td>\n",
       "      <td>Released</td>\n",
       "      <td>Enter the World of Pandora.</td>\n",
       "      <td>avatar</td>\n",
       "      <td>7.2</td>\n",
       "      <td>11800</td>\n",
       "      <td>[{\"cast_id\": 242, \"character\": \"Jake Sully\", \"...</td>\n",
       "      <td>[{\"credit_id\": \"52fe48009251416c750aca23\", \"de...</td>\n",
       "    </tr>\n",
       "    <tr>\n",
       "      <th>1</th>\n",
       "      <td>300000000</td>\n",
       "      <td>[{\"id\": 12, \"name\": \"Adventure\"}, {\"id\": 14, \"...</td>\n",
       "      <td>http://disney.go.com/disneypictures/pirates/</td>\n",
       "      <td>285</td>\n",
       "      <td>[{\"id\": 270, \"name\": \"ocean\"}, {\"id\": 726, \"na...</td>\n",
       "      <td>en</td>\n",
       "      <td>Pirates of the Caribbean: At World's End</td>\n",
       "      <td>Captain Barbossa, long believed to be dead, ha...</td>\n",
       "      <td>139.082615</td>\n",
       "      <td>[{\"name\": \"Walt Disney Pictures\", \"id\": 2}, {\"...</td>\n",
       "      <td>...</td>\n",
       "      <td>961000000</td>\n",
       "      <td>169.0</td>\n",
       "      <td>[{\"iso_639_1\": \"en\", \"name\": \"English\"}]</td>\n",
       "      <td>Released</td>\n",
       "      <td>At the end of the world, the adventure begins.</td>\n",
       "      <td>pirates of the caribbean: at world's end</td>\n",
       "      <td>6.9</td>\n",
       "      <td>4500</td>\n",
       "      <td>[{\"cast_id\": 4, \"character\": \"Captain Jack Spa...</td>\n",
       "      <td>[{\"credit_id\": \"52fe4232c3a36847f800b579\", \"de...</td>\n",
       "    </tr>\n",
       "  </tbody>\n",
       "</table>\n",
       "<p>2 rows × 22 columns</p>\n",
       "</div>"
      ],
      "text/plain": [
       "      budget                                             genres  \\\n",
       "0  237000000  [{\"id\": 28, \"name\": \"Action\"}, {\"id\": 12, \"nam...   \n",
       "1  300000000  [{\"id\": 12, \"name\": \"Adventure\"}, {\"id\": 14, \"...   \n",
       "\n",
       "                                       homepage     id  \\\n",
       "0                   http://www.avatarmovie.com/  19995   \n",
       "1  http://disney.go.com/disneypictures/pirates/    285   \n",
       "\n",
       "                                            keywords original_language  \\\n",
       "0  [{\"id\": 1463, \"name\": \"culture clash\"}, {\"id\":...                en   \n",
       "1  [{\"id\": 270, \"name\": \"ocean\"}, {\"id\": 726, \"na...                en   \n",
       "\n",
       "                             original_title  \\\n",
       "0                                    Avatar   \n",
       "1  Pirates of the Caribbean: At World's End   \n",
       "\n",
       "                                            overview  popularity  \\\n",
       "0  In the 22nd century, a paraplegic Marine is di...  150.437577   \n",
       "1  Captain Barbossa, long believed to be dead, ha...  139.082615   \n",
       "\n",
       "                                production_companies  ...     revenue runtime  \\\n",
       "0  [{\"name\": \"Ingenious Film Partners\", \"id\": 289...  ...  2787965087   162.0   \n",
       "1  [{\"name\": \"Walt Disney Pictures\", \"id\": 2}, {\"...  ...   961000000   169.0   \n",
       "\n",
       "                                    spoken_languages    status  \\\n",
       "0  [{\"iso_639_1\": \"en\", \"name\": \"English\"}, {\"iso...  Released   \n",
       "1           [{\"iso_639_1\": \"en\", \"name\": \"English\"}]  Released   \n",
       "\n",
       "                                          tagline  \\\n",
       "0                     Enter the World of Pandora.   \n",
       "1  At the end of the world, the adventure begins.   \n",
       "\n",
       "                                      title vote_average vote_count  \\\n",
       "0                                    avatar          7.2      11800   \n",
       "1  pirates of the caribbean: at world's end          6.9       4500   \n",
       "\n",
       "                                                cast  \\\n",
       "0  [{\"cast_id\": 242, \"character\": \"Jake Sully\", \"...   \n",
       "1  [{\"cast_id\": 4, \"character\": \"Captain Jack Spa...   \n",
       "\n",
       "                                                crew  \n",
       "0  [{\"credit_id\": \"52fe48009251416c750aca23\", \"de...  \n",
       "1  [{\"credit_id\": \"52fe4232c3a36847f800b579\", \"de...  \n",
       "\n",
       "[2 rows x 22 columns]"
      ]
     },
     "execution_count": 8,
     "metadata": {},
     "output_type": "execute_result"
    }
   ],
   "source": [
    "movies_df.head(2)"
   ]
  },
  {
   "cell_type": "code",
   "execution_count": 9,
   "id": "bf7aebe6-7fe8-47d4-9b95-446c22392cc9",
   "metadata": {},
   "outputs": [
    {
     "data": {
      "image/png": "[encoded data removed]",
      "text/plain": [
       "<Figure size 432x288 with 1 Axes>"
      ]
     },
     "metadata": {
      "needs_background": "light"
     },
     "output_type": "display_data"
    }
   ],
   "source": [
    "plt.scatter('budget', 'popularity', data=movies_df)\n",
    "plt.title('Budget vs. Movie Popularity')\n",
    "plt.xlabel('Budget ($)')\n",
    "plt.ylabel('Popularity')\n",
    "plt.show()"
   ]
  },
  {
   "cell_type": "code",
   "execution_count": 10,
   "id": "491af2a0-3149-4032-b8b9-8901f1e9c102",
   "metadata": {},
   "outputs": [
    {
     "data": {
      "image/png": "[encoded data removed]",
      "text/plain": [
       "<Figure size 432x288 with 1 Axes>"
      ]
     },
     "metadata": {
      "needs_background": "light"
     },
     "output_type": "display_data"
    }
   ],
   "source": [
    "df_sample = movies_df[(movies_df.vote_average != 0) & (movies_df.budget != 0)].sample(500) #sampling 500 random movies\n",
    "\n",
    "plt.scatter('budget', 'vote_average', data=df_sample, marker='o')\n",
    "plt.title('Budget vs. Average Vote')\n",
    "plt.xlabel('Budget (Millions) ($)')\n",
    "plt.xlim(0, 150000000)\n",
    "plt.ylabel('Avg. Vote')\n",
    "plt.show()"
   ]
  },
  {
   "cell_type": "code",
   "execution_count": 11,
   "id": "d6b90961",
   "metadata": {
    "scrolled": true
   },
   "outputs": [
    {
     "data": {
      "text/html": [
       "<div>\n",
       "<style scoped>\n",
       "    .dataframe tbody tr th:only-of-type {\n",
       "        vertical-align: middle;\n",
       "    }\n",
       "\n",
       "    .dataframe tbody tr th {\n",
       "        vertical-align: top;\n",
       "    }\n",
       "\n",
       "    .dataframe thead th {\n",
       "        text-align: right;\n",
       "    }\n",
       "</style>\n",
       "<table border=\"1\" class=\"dataframe\">\n",
       "  <thead>\n",
       "    <tr style=\"text-align: right;\">\n",
       "      <th></th>\n",
       "      <th>cast</th>\n",
       "      <th>crew</th>\n",
       "      <th>keywords</th>\n",
       "      <th>genres</th>\n",
       "    </tr>\n",
       "  </thead>\n",
       "  <tbody>\n",
       "    <tr>\n",
       "      <th>0</th>\n",
       "      <td>[{'cast_id': 242, 'character': 'Jake Sully', '...</td>\n",
       "      <td>[{'credit_id': '52fe48009251416c750aca23', 'de...</td>\n",
       "      <td>[{'id': 1463, 'name': 'culture clash'}, {'id':...</td>\n",
       "      <td>[{'id': 28, 'name': 'Action'}, {'id': 12, 'nam...</td>\n",
       "    </tr>\n",
       "    <tr>\n",
       "      <th>1</th>\n",
       "      <td>[{'cast_id': 4, 'character': 'Captain Jack Spa...</td>\n",
       "      <td>[{'credit_id': '52fe4232c3a36847f800b579', 'de...</td>\n",
       "      <td>[{'id': 270, 'name': 'ocean'}, {'id': 726, 'na...</td>\n",
       "      <td>[{'id': 12, 'name': 'Adventure'}, {'id': 14, '...</td>\n",
       "    </tr>\n",
       "    <tr>\n",
       "      <th>2</th>\n",
       "      <td>[{'cast_id': 1, 'character': 'James Bond', 'cr...</td>\n",
       "      <td>[{'credit_id': '54805967c3a36829b5002c41', 'de...</td>\n",
       "      <td>[{'id': 470, 'name': 'spy'}, {'id': 818, 'name...</td>\n",
       "      <td>[{'id': 28, 'name': 'Action'}, {'id': 12, 'nam...</td>\n",
       "    </tr>\n",
       "    <tr>\n",
       "      <th>3</th>\n",
       "      <td>[{'cast_id': 2, 'character': 'Bruce Wayne / Ba...</td>\n",
       "      <td>[{'credit_id': '52fe4781c3a36847f81398c3', 'de...</td>\n",
       "      <td>[{'id': 849, 'name': 'dc comics'}, {'id': 853,...</td>\n",
       "      <td>[{'id': 28, 'name': 'Action'}, {'id': 80, 'nam...</td>\n",
       "    </tr>\n",
       "    <tr>\n",
       "      <th>4</th>\n",
       "      <td>[{'cast_id': 5, 'character': 'John Carter', 'c...</td>\n",
       "      <td>[{'credit_id': '52fe479ac3a36847f813eaa3', 'de...</td>\n",
       "      <td>[{'id': 818, 'name': 'based on novel'}, {'id':...</td>\n",
       "      <td>[{'id': 28, 'name': 'Action'}, {'id': 12, 'nam...</td>\n",
       "    </tr>\n",
       "    <tr>\n",
       "      <th>5</th>\n",
       "      <td>[{'cast_id': 30, 'character': 'Peter Parker / ...</td>\n",
       "      <td>[{'credit_id': '52fe4252c3a36847f80151a5', 'de...</td>\n",
       "      <td>[{'id': 851, 'name': 'dual identity'}, {'id': ...</td>\n",
       "      <td>[{'id': 14, 'name': 'Fantasy'}, {'id': 28, 'na...</td>\n",
       "    </tr>\n",
       "    <tr>\n",
       "      <th>6</th>\n",
       "      <td>[{'cast_id': 34, 'character': 'Flynn Rider (vo...</td>\n",
       "      <td>[{'credit_id': '52fe46db9251416c91062101', 'de...</td>\n",
       "      <td>[{'id': 1562, 'name': 'hostage'}, {'id': 2343,...</td>\n",
       "      <td>[{'id': 16, 'name': 'Animation'}, {'id': 10751...</td>\n",
       "    </tr>\n",
       "    <tr>\n",
       "      <th>7</th>\n",
       "      <td>[{'cast_id': 76, 'character': 'Tony Stark / Ir...</td>\n",
       "      <td>[{'credit_id': '55d5f7d4c3a3683e7e0016eb', 'de...</td>\n",
       "      <td>[{'id': 8828, 'name': 'marvel comic'}, {'id': ...</td>\n",
       "      <td>[{'id': 28, 'name': 'Action'}, {'id': 12, 'nam...</td>\n",
       "    </tr>\n",
       "    <tr>\n",
       "      <th>8</th>\n",
       "      <td>[{'cast_id': 3, 'character': 'Harry Potter', '...</td>\n",
       "      <td>[{'credit_id': '52fe4273c3a36847f801fab1', 'de...</td>\n",
       "      <td>[{'id': 616, 'name': 'witch'}, {'id': 2343, 'n...</td>\n",
       "      <td>[{'id': 12, 'name': 'Adventure'}, {'id': 14, '...</td>\n",
       "    </tr>\n",
       "    <tr>\n",
       "      <th>9</th>\n",
       "      <td>[{'cast_id': 18, 'character': 'Bruce Wayne / B...</td>\n",
       "      <td>[{'credit_id': '553bf23692514135c8002886', 'de...</td>\n",
       "      <td>[{'id': 849, 'name': 'dc comics'}, {'id': 7002...</td>\n",
       "      <td>[{'id': 28, 'name': 'Action'}, {'id': 12, 'nam...</td>\n",
       "    </tr>\n",
       "  </tbody>\n",
       "</table>\n",
       "</div>"
      ],
      "text/plain": [
       "                                                cast  \\\n",
       "0  [{'cast_id': 242, 'character': 'Jake Sully', '...   \n",
       "1  [{'cast_id': 4, 'character': 'Captain Jack Spa...   \n",
       "2  [{'cast_id': 1, 'character': 'James Bond', 'cr...   \n",
       "3  [{'cast_id': 2, 'character': 'Bruce Wayne / Ba...   \n",
       "4  [{'cast_id': 5, 'character': 'John Carter', 'c...   \n",
       "5  [{'cast_id': 30, 'character': 'Peter Parker / ...   \n",
       "6  [{'cast_id': 34, 'character': 'Flynn Rider (vo...   \n",
       "7  [{'cast_id': 76, 'character': 'Tony Stark / Ir...   \n",
       "8  [{'cast_id': 3, 'character': 'Harry Potter', '...   \n",
       "9  [{'cast_id': 18, 'character': 'Bruce Wayne / B...   \n",
       "\n",
       "                                                crew  \\\n",
       "0  [{'credit_id': '52fe48009251416c750aca23', 'de...   \n",
       "1  [{'credit_id': '52fe4232c3a36847f800b579', 'de...   \n",
       "2  [{'credit_id': '54805967c3a36829b5002c41', 'de...   \n",
       "3  [{'credit_id': '52fe4781c3a36847f81398c3', 'de...   \n",
       "4  [{'credit_id': '52fe479ac3a36847f813eaa3', 'de...   \n",
       "5  [{'credit_id': '52fe4252c3a36847f80151a5', 'de...   \n",
       "6  [{'credit_id': '52fe46db9251416c91062101', 'de...   \n",
       "7  [{'credit_id': '55d5f7d4c3a3683e7e0016eb', 'de...   \n",
       "8  [{'credit_id': '52fe4273c3a36847f801fab1', 'de...   \n",
       "9  [{'credit_id': '553bf23692514135c8002886', 'de...   \n",
       "\n",
       "                                            keywords  \\\n",
       "0  [{'id': 1463, 'name': 'culture clash'}, {'id':...   \n",
       "1  [{'id': 270, 'name': 'ocean'}, {'id': 726, 'na...   \n",
       "2  [{'id': 470, 'name': 'spy'}, {'id': 818, 'name...   \n",
       "3  [{'id': 849, 'name': 'dc comics'}, {'id': 853,...   \n",
       "4  [{'id': 818, 'name': 'based on novel'}, {'id':...   \n",
       "5  [{'id': 851, 'name': 'dual identity'}, {'id': ...   \n",
       "6  [{'id': 1562, 'name': 'hostage'}, {'id': 2343,...   \n",
       "7  [{'id': 8828, 'name': 'marvel comic'}, {'id': ...   \n",
       "8  [{'id': 616, 'name': 'witch'}, {'id': 2343, 'n...   \n",
       "9  [{'id': 849, 'name': 'dc comics'}, {'id': 7002...   \n",
       "\n",
       "                                              genres  \n",
       "0  [{'id': 28, 'name': 'Action'}, {'id': 12, 'nam...  \n",
       "1  [{'id': 12, 'name': 'Adventure'}, {'id': 14, '...  \n",
       "2  [{'id': 28, 'name': 'Action'}, {'id': 12, 'nam...  \n",
       "3  [{'id': 28, 'name': 'Action'}, {'id': 80, 'nam...  \n",
       "4  [{'id': 28, 'name': 'Action'}, {'id': 12, 'nam...  \n",
       "5  [{'id': 14, 'name': 'Fantasy'}, {'id': 28, 'na...  \n",
       "6  [{'id': 16, 'name': 'Animation'}, {'id': 10751...  \n",
       "7  [{'id': 28, 'name': 'Action'}, {'id': 12, 'nam...  \n",
       "8  [{'id': 12, 'name': 'Adventure'}, {'id': 14, '...  \n",
       "9  [{'id': 28, 'name': 'Action'}, {'id': 12, 'nam...  "
      ]
     },
     "execution_count": 11,
     "metadata": {},
     "output_type": "execute_result"
    }
   ],
   "source": [
    "from ast import literal_eval\n",
    "\n",
    "features = [\"cast\", \"crew\", \"keywords\", \"genres\"]\n",
    "\n",
    "for feature in features:\n",
    "    movies_df[feature] = movies_df[feature].apply(literal_eval)\n",
    "\n",
    "movies_df[features].head(10)"
   ]
  },
  {
   "cell_type": "code",
   "execution_count": 12,
   "id": "8d26ed2c",
   "metadata": {},
   "outputs": [],
   "source": [
    "#movies_df.loc[0, 'crew']"
   ]
  },
  {
   "cell_type": "code",
   "execution_count": 13,
   "id": "869097e8",
   "metadata": {},
   "outputs": [],
   "source": [
    "# extract the name of the director of the movie\n",
    "\n",
    "def get_director(x):\n",
    "    for i in x:\n",
    "        if i[\"job\"] == \"Director\":\n",
    "            return i[\"name\"]\n",
    "    return np.nan"
   ]
  },
  {
   "cell_type": "code",
   "execution_count": 14,
   "id": "b4c87292",
   "metadata": {},
   "outputs": [],
   "source": [
    "# returns the top 3 elements (or the entire list whichever is more)\n",
    "\n",
    "def get_list(x):\n",
    "    if isinstance(x, list):\n",
    "        names = [i[\"name\"] for i in x]\n",
    "\n",
    "        if len(names) > 3:\n",
    "            names = names[:3]\n",
    "\n",
    "        return names\n",
    "\n",
    "    return []"
   ]
  },
  {
   "cell_type": "code",
   "execution_count": 15,
   "id": "0d04b119",
   "metadata": {},
   "outputs": [],
   "source": [
    "# applying both the functions\n",
    "\n",
    "movies_df[\"director\"] = movies_df[\"crew\"].apply(get_director)\n",
    "\n",
    "features = [\"cast\", \"keywords\", \"genres\"]\n",
    "for feature in features:\n",
    "    movies_df[feature] = movies_df[feature].apply(get_list)"
   ]
  },
  {
   "cell_type": "code",
   "execution_count": 16,
   "id": "b2acfeea",
   "metadata": {},
   "outputs": [
    {
     "data": {
      "text/html": [
       "<div>\n",
       "<style scoped>\n",
       "    .dataframe tbody tr th:only-of-type {\n",
       "        vertical-align: middle;\n",
       "    }\n",
       "\n",
       "    .dataframe tbody tr th {\n",
       "        vertical-align: top;\n",
       "    }\n",
       "\n",
       "    .dataframe thead th {\n",
       "        text-align: right;\n",
       "    }\n",
       "</style>\n",
       "<table border=\"1\" class=\"dataframe\">\n",
       "  <thead>\n",
       "    <tr style=\"text-align: right;\">\n",
       "      <th></th>\n",
       "      <th>title</th>\n",
       "      <th>cast</th>\n",
       "      <th>director</th>\n",
       "      <th>keywords</th>\n",
       "      <th>genres</th>\n",
       "    </tr>\n",
       "  </thead>\n",
       "  <tbody>\n",
       "    <tr>\n",
       "      <th>0</th>\n",
       "      <td>avatar</td>\n",
       "      <td>[Sam Worthington, Zoe Saldana, Sigourney Weaver]</td>\n",
       "      <td>James Cameron</td>\n",
       "      <td>[culture clash, future, space war]</td>\n",
       "      <td>[Action, Adventure, Fantasy]</td>\n",
       "    </tr>\n",
       "    <tr>\n",
       "      <th>1</th>\n",
       "      <td>pirates of the caribbean: at world's end</td>\n",
       "      <td>[Johnny Depp, Orlando Bloom, Keira Knightley]</td>\n",
       "      <td>Gore Verbinski</td>\n",
       "      <td>[ocean, drug abuse, exotic island]</td>\n",
       "      <td>[Adventure, Fantasy, Action]</td>\n",
       "    </tr>\n",
       "    <tr>\n",
       "      <th>2</th>\n",
       "      <td>spectre</td>\n",
       "      <td>[Daniel Craig, Christoph Waltz, Léa Seydoux]</td>\n",
       "      <td>Sam Mendes</td>\n",
       "      <td>[spy, based on novel, secret agent]</td>\n",
       "      <td>[Action, Adventure, Crime]</td>\n",
       "    </tr>\n",
       "    <tr>\n",
       "      <th>3</th>\n",
       "      <td>the dark knight rises</td>\n",
       "      <td>[Christian Bale, Michael Caine, Gary Oldman]</td>\n",
       "      <td>Christopher Nolan</td>\n",
       "      <td>[dc comics, crime fighter, terrorist]</td>\n",
       "      <td>[Action, Crime, Drama]</td>\n",
       "    </tr>\n",
       "    <tr>\n",
       "      <th>4</th>\n",
       "      <td>john carter</td>\n",
       "      <td>[Taylor Kitsch, Lynn Collins, Samantha Morton]</td>\n",
       "      <td>Andrew Stanton</td>\n",
       "      <td>[based on novel, mars, medallion]</td>\n",
       "      <td>[Action, Adventure, Science Fiction]</td>\n",
       "    </tr>\n",
       "  </tbody>\n",
       "</table>\n",
       "</div>"
      ],
      "text/plain": [
       "                                      title  \\\n",
       "0                                    avatar   \n",
       "1  pirates of the caribbean: at world's end   \n",
       "2                                   spectre   \n",
       "3                     the dark knight rises   \n",
       "4                               john carter   \n",
       "\n",
       "                                               cast           director  \\\n",
       "0  [Sam Worthington, Zoe Saldana, Sigourney Weaver]      James Cameron   \n",
       "1     [Johnny Depp, Orlando Bloom, Keira Knightley]     Gore Verbinski   \n",
       "2      [Daniel Craig, Christoph Waltz, Léa Seydoux]         Sam Mendes   \n",
       "3      [Christian Bale, Michael Caine, Gary Oldman]  Christopher Nolan   \n",
       "4    [Taylor Kitsch, Lynn Collins, Samantha Morton]     Andrew Stanton   \n",
       "\n",
       "                                keywords                                genres  \n",
       "0     [culture clash, future, space war]          [Action, Adventure, Fantasy]  \n",
       "1     [ocean, drug abuse, exotic island]          [Adventure, Fantasy, Action]  \n",
       "2    [spy, based on novel, secret agent]            [Action, Adventure, Crime]  \n",
       "3  [dc comics, crime fighter, terrorist]                [Action, Crime, Drama]  \n",
       "4      [based on novel, mars, medallion]  [Action, Adventure, Science Fiction]  "
      ]
     },
     "execution_count": 16,
     "metadata": {},
     "output_type": "execute_result"
    }
   ],
   "source": [
    "movies_df[['title', 'cast', 'director', 'keywords', 'genres']].head()"
   ]
  },
  {
   "cell_type": "code",
   "execution_count": 17,
   "id": "b9973d7a",
   "metadata": {},
   "outputs": [],
   "source": [
    "# cleaning data\n",
    "\n",
    "def clean_data(row):\n",
    "    if isinstance(row, list):\n",
    "        return [str.lower(i.replace(\" \", \"\")) for i in row]\n",
    "    else:\n",
    "        if isinstance(row, str):\n",
    "            return str.lower(row.replace(\" \", \"\"))\n",
    "        else:\n",
    "            return \"\"\n",
    "\n",
    "features = ['cast', 'keywords', 'director', 'genres']\n",
    "for feature in features:\n",
    "    movies_df[feature] = movies_df[feature].apply(clean_data)"
   ]
  },
  {
   "cell_type": "code",
   "execution_count": 18,
   "id": "93425c1b",
   "metadata": {},
   "outputs": [
    {
     "name": "stdout",
     "output_type": "stream",
     "text": [
      "0    cultureclash future spacewar samworthington zo...\n",
      "1    ocean drugabuse exoticisland johnnydepp orland...\n",
      "2    spy basedonnovel secretagent danielcraig chris...\n",
      "3    dccomics crimefighter terrorist christianbale ...\n",
      "4    basedonnovel mars medallion taylorkitsch lynnc...\n",
      "Name: soup, dtype: object\n"
     ]
    }
   ],
   "source": [
    "# creating a soup\n",
    "\n",
    "def create_soup(features):\n",
    "    return ' '.join(features['keywords']) + ' ' + ' '.join(features['cast']) + ' ' + features['director'] + ' ' + ' '.join(features['genres'])\n",
    "\n",
    "\n",
    "movies_df[\"soup\"] = movies_df.apply(create_soup, axis=1)\n",
    "print(movies_df[\"soup\"].head())"
   ]
  },
  {
   "cell_type": "code",
   "execution_count": 19,
   "id": "374fe3be",
   "metadata": {},
   "outputs": [
    {
     "name": "stdout",
     "output_type": "stream",
     "text": [
      "(4809, 11520)\n",
      "(4809, 4809)\n"
     ]
    }
   ],
   "source": [
    "from sklearn.feature_extraction.text import CountVectorizer\n",
    "from sklearn.metrics.pairwise import cosine_similarity\n",
    "\n",
    "count_vectorizer = CountVectorizer(stop_words=\"english\")\n",
    "count_matrix = count_vectorizer.fit_transform(movies_df[\"soup\"])\n",
    "\n",
    "print(count_matrix.shape)\n",
    "\n",
    "cosine_sim2 = cosine_similarity(count_matrix, count_matrix) \n",
    "print(cosine_sim2.shape)\n",
    "\n",
    "movies_df = movies_df.reset_index()\n",
    "indices = pd.Series(movies_df.index, index=movies_df['title'])"
   ]
  },
  {
   "cell_type": "code",
   "execution_count": 20,
   "id": "9e74871d",
   "metadata": {},
   "outputs": [
    {
     "name": "stdout",
     "output_type": "stream",
     "text": [
      "title\n",
      "avatar                                      0\n",
      "pirates of the caribbean: at world's end    1\n",
      "spectre                                     2\n",
      "the dark knight rises                       3\n",
      "john carter                                 4\n",
      "dtype: int64\n"
     ]
    }
   ],
   "source": [
    "# Creating a reverse mapping of movie titles to the indices\n",
    "# Then we are able to find the title of the movie based on the index\n",
    "\n",
    "indices = pd.Series(movies_df.index, index=movies_df[\"title\"]).drop_duplicates()\n",
    "\n",
    "print(indices.head())"
   ]
  },
  {
   "cell_type": "code",
   "execution_count": 82,
   "id": "6bb0a9e5",
   "metadata": {},
   "outputs": [],
   "source": [
    "# Get recommendations for the movies\n",
    "# function that takes in a movie title and the cosine similarity score as input\n",
    "# and outputs 10 movies similar to it.\n",
    "\n",
    "def get_recommendations(title, cosine_sim=cosine_sim2):\n",
    "    title = title.lower()\n",
    "    idx = indices[title]\n",
    "    similarity_scores = list(enumerate(cosine_sim[idx]))\n",
    "    similarity_scores = sorted(similarity_scores, key=lambda x: x[1], reverse=True)\n",
    "    similarity_scores = similarity_scores[1:11]\n",
    "    # (a, b) where a is id of movie, b is similarity_scores\n",
    "\n",
    "    movies_indices = [ind[0] for ind in similarity_scores]\n",
    "    movies = (movies_df[\"title\"].str.title()).iloc[movies_indices]\n",
    "    #print(type(movies))\n",
    "    #return movies\n",
    "    print('Because you enjoyed ' + title.title() + ', we recommend: \\n')\n",
    "    print(*movies, sep='\\n')\n",
    "    return ''\n"
   ]
  },
  {
   "cell_type": "code",
   "execution_count": 85,
   "id": "8ac4026a",
   "metadata": {},
   "outputs": [
    {
     "name": "stdout",
     "output_type": "stream",
     "text": [
      "Because you enjoyed Bee Movie, we recommend: \n",
      "\n",
      "Pooh'S Heffalump Movie\n",
      "Valiant\n",
      "Atlantis: The Lost Empire\n",
      "Legend Of The Guardians: The Owls Of Ga'Hoole\n",
      "Epic\n",
      "Walking With Dinosaurs\n",
      "Winnie The Pooh\n",
      "The Tigger Movie\n",
      "Jungle Shuffle\n",
      "Running Forever\n",
      "\n",
      "\n",
      "Because you enjoyed Iron Man, we recommend: \n",
      "\n",
      "Iron Man 2\n",
      "Avengers: Age Of Ultron\n",
      "The Avengers\n",
      "Captain America: Civil War\n",
      "Iron Man 3\n",
      "Tron: Legacy\n",
      "The Helix... Loaded\n",
      "The Lovers\n",
      "After Earth\n",
      "Six-String Samurai\n",
      "\n"
     ]
    }
   ],
   "source": [
    "#print(\"Recommendations for Bee Movie\")\n",
    "print(get_recommendations(\"Bee Movie\", cosine_sim2))\n",
    "\n",
    "print()\n",
    "\n",
    "#print(\"Recommendations for Iron Man\")\n",
    "print(get_recommendations(\"iron man\", cosine_sim2))"
   ]
  },
  {
   "cell_type": "code",
   "execution_count": 86,
   "id": "52198b00",
   "metadata": {},
   "outputs": [
    {
     "name": "stdout",
     "output_type": "stream",
     "text": [
      "Because you enjoyed Spectre, we recommend: \n",
      "\n",
      "Skyfall\n",
      "Quantum Of Solace\n",
      "The Glimmer Man\n",
      "The Art Of War\n",
      "Nancy Drew\n",
      "Amidst The Devil'S Wings\n",
      "The Legend Of Tarzan\n",
      "The Other Side Of Heaven\n",
      "John Carter\n",
      "Suicide Squad\n"
     ]
    },
    {
     "data": {
      "text/plain": [
       "''"
      ]
     },
     "execution_count": 86,
     "metadata": {},
     "output_type": "execute_result"
    }
   ],
   "source": [
    "get_recommendations('spectre')"
   ]
  },
  {
   "cell_type": "code",
   "execution_count": 87,
   "id": "a10c42d3",
   "metadata": {},
   "outputs": [
    {
     "name": "stdout",
     "output_type": "stream",
     "text": [
      "Because you enjoyed Toy Story, we recommend: \n",
      "\n",
      "Toy Story 3\n",
      "Toy Story 2\n",
      "Cars 2\n",
      "Monster House\n",
      "Meet The Deedles\n",
      "Alpha And Omega: The Legend Of The Saw Tooth Cave\n",
      "Christmas With The Kranks\n",
      "Madagascar: Escape 2 Africa\n",
      "The Shaggy Dog\n",
      "Zoom\n"
     ]
    },
    {
     "data": {
      "text/plain": [
       "''"
      ]
     },
     "execution_count": 87,
     "metadata": {},
     "output_type": "execute_result"
    }
   ],
   "source": [
    "get_recommendations('Toy Story')"
   ]
  },
  {
   "cell_type": "code",
   "execution_count": 88,
   "id": "09e37fe9",
   "metadata": {},
   "outputs": [],
   "source": [
    "def use():\n",
    "    mov = 'test'\n",
    "    while True:\n",
    "        if mov == '':\n",
    "            print('That was fun! Come back after you\\'ve watched another movie!')\n",
    "            break\n",
    "        mov = input(\"\\nEnter a movie you recently enjoyed: \")\n",
    "        if mov == '':\n",
    "            print()\n",
    "            print('That was fun! Come back after you\\'ve watched another movie!')\n",
    "            break\n",
    "            \n",
    "        try:\n",
    "            print()\n",
    "            #print('Because you enjoyed ' + mov.title() + ', we recommend: \\n', get_recommendations(mov))\n",
    "            get_recommendations(mov)\n",
    "            \n",
    "        except KeyError:\n",
    "            print()\n",
    "            print('Movie not found, please check spelling and try again!')\n",
    "            use()"
   ]
  },
  {
   "cell_type": "code",
   "execution_count": 89,
   "id": "b5075b8e",
   "metadata": {
    "scrolled": false
   },
   "outputs": [
    {
     "name": "stdout",
     "output_type": "stream",
     "text": [
      "\n",
      "Because you enjoyed Cars, we recommend: \n",
      "\n",
      "Cars 2\n",
      "The Adventures Of Rocky & Bullwinkle\n",
      "Why I Did (Not) Eat My Father\n",
      "Rugrats In Paris: The Movie\n",
      "Brave\n",
      "Flushed Away\n",
      "Rio 2\n",
      "The Croods\n",
      "The Emperor'S New Groove\n",
      "The Road To El Dorado\n",
      "\n",
      "Because you enjoyed Pitch Perfect, we recommend: \n",
      "\n",
      "Down & Out With The Dolls\n",
      "Pitch Perfect 2\n",
      "Me You And Five Bucks\n",
      "Begin Again\n",
      "Sydney White\n",
      "There'S Always Woodstock\n",
      "Along The Roadside\n",
      "The Sweetest Thing\n",
      "Bridesmaids\n",
      "The House Bunny\n",
      "\n",
      "That was fun! Come back after you've watched another movie!\n"
     ]
    }
   ],
   "source": [
    "use()"
   ]
  },
  {
   "cell_type": "code",
   "execution_count": null,
   "id": "89698ea9",
   "metadata": {},
   "outputs": [],
   "source": []
  }
 ],
 "metadata": {
  "kernelspec": {
   "display_name": "base",
   "language": "python",
   "name": "python3"
  },
  "language_info": {
   "codemirror_mode": {
    "name": "ipython",
    "version": 3
   },
   "file_extension": ".py",
   "mimetype": "text/x-python",
   "name": "python",
   "nbconvert_exporter": "python",
   "pygments_lexer": "ipython3",
   "version": "3.9.12"
  },
  "vscode": {
   "interpreter": {
    "hash": "ae154e302bf29fc8d2ca56a1f9e9e4e3ae2b5536aa17c11438eead12da52b64f"
   }
  }
 },
 "nbformat": 4,
 "nbformat_minor": 5
}
